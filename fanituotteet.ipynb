{
 "cells": [
  {
   "cell_type": "code",
   "execution_count": 81,
   "metadata": {},
   "outputs": [],
   "source": [
    "import numpy as np\n",
    "import pandas as pd\n",
    "from apyori import apriori"
   ]
  },
  {
   "cell_type": "code",
   "execution_count": 82,
   "metadata": {},
   "outputs": [],
   "source": [
    "df = pd.read_csv('fanituotteet.csv', sep =',')"
   ]
  },
  {
   "cell_type": "code",
   "execution_count": 83,
   "metadata": {},
   "outputs": [
    {
     "data": {
      "text/plain": [
       "(100000, 21)"
      ]
     },
     "execution_count": 83,
     "metadata": {},
     "output_type": "execute_result"
    }
   ],
   "source": [
    "df.shape"
   ]
  },
  {
   "cell_type": "code",
   "execution_count": 84,
   "metadata": {},
   "outputs": [
    {
     "name": "stdout",
     "output_type": "stream",
     "text": [
      "ID\n",
      "MovieBoxes\n",
      "TShirts\n",
      "CollegeShirts\n",
      "Caps\n",
      "Hats\n",
      "Mugs\n",
      "Music\n",
      "Posters\n",
      "Books\n",
      "Scarves\n",
      "PintsAndWhiskeyGlasses\n",
      "ScaleModels\n",
      "CollectorCards\n",
      "BoardGames\n",
      "FlagsAndStandards\n",
      "Stickers\n",
      "Toys\n",
      "Sweets\n",
      "FridgeMagnets\n",
      "UnderwearAndSocks\n"
     ]
    }
   ],
   "source": [
    "colnames = df.columns\n",
    "for colname in colnames:\n",
    "    print (colname)"
   ]
  },
  {
   "cell_type": "code",
   "execution_count": 85,
   "metadata": {},
   "outputs": [
    {
     "name": "stdout",
     "output_type": "stream",
     "text": [
      "[['Books', 'FlagsAndStandards', 'UnderwearAndSocks'], ['TShirts', 'Books', 'FlagsAndStandards', 'Stickers', 'Toys', 'Sweets', 'FridgeMagnets', 'UnderwearAndSocks'], ['Music', 'FridgeMagnets', 'UnderwearAndSocks'], ['MovieBoxes', 'Caps', 'PintsAndWhiskeyGlasses', 'FridgeMagnets', 'UnderwearAndSocks'], ['Books', 'FlagsAndStandards', 'FridgeMagnets', 'UnderwearAndSocks'], ['TShirts', 'Music', 'PintsAndWhiskeyGlasses'], ['Sweets', 'FridgeMagnets', 'UnderwearAndSocks'], ['Posters', 'Stickers'], ['ScaleModels', 'FridgeMagnets', 'UnderwearAndSocks'], ['Books', 'CollectorCards']]\n"
     ]
    }
   ],
   "source": [
    "transactions = [] # kaikki = 'kuitti'\n",
    "for i in range(0, df.shape[0]):\n",
    "    transact = [] # yksittäinen rivi kuitilla\n",
    "    for j in range(1, df.shape[1]):\n",
    "        if df.values[i, j] == 1:\n",
    "            transact.append(colnames[j])\n",
    "    if len(transact) > 0:\n",
    "        transactions.append(transact) # ei lisätä tyhiä rivejä\n",
    "print(transactions[0:10]) # listoja listan sisällä\n",
    "\n"
   ]
  },
  {
   "cell_type": "code",
   "execution_count": 86,
   "metadata": {},
   "outputs": [
    {
     "name": "stdout",
     "output_type": "stream",
     "text": [
      "[RelationRecord(items=frozenset({'FlagsAndStandards', 'Books'}), support=0.13848161033797216, ordered_statistics=[OrderedStatistic(items_base=frozenset({'Books'}), items_add=frozenset({'FlagsAndStandards'}), confidence=0.5613761144411423, lift=3.8029923981669307), OrderedStatistic(items_base=frozenset({'FlagsAndStandards'}), items_add=frozenset({'Books'}), confidence=0.938131313131313, lift=3.8029923981669307)]), RelationRecord(items=frozenset({'UnderwearAndSocks', 'FridgeMagnets'}), support=0.16744532803180914, ordered_statistics=[OrderedStatistic(items_base=frozenset({'FridgeMagnets'}), items_add=frozenset({'UnderwearAndSocks'}), confidence=0.6533501405992437, lift=3.5532922905410955), OrderedStatistic(items_base=frozenset({'UnderwearAndSocks'}), items_add=frozenset({'FridgeMagnets'}), confidence=0.9106636031896203, lift=3.5532922905410955)])]\n",
      "[RelationRecord(items=frozenset({'FlagsAndStandards', 'Books'}), support=0.13848161033797216, ordered_statistics=[OrderedStatistic(items_base=frozenset({'Books'}), items_add=frozenset({'FlagsAndStandards'}), confidence=0.5613761144411423, lift=3.8029923981669307), OrderedStatistic(items_base=frozenset({'FlagsAndStandards'}), items_add=frozenset({'Books'}), confidence=0.938131313131313, lift=3.8029923981669307)]), RelationRecord(items=frozenset({'UnderwearAndSocks', 'FridgeMagnets'}), support=0.16744532803180914, ordered_statistics=[OrderedStatistic(items_base=frozenset({'FridgeMagnets'}), items_add=frozenset({'UnderwearAndSocks'}), confidence=0.6533501405992437, lift=3.5532922905410955), OrderedStatistic(items_base=frozenset({'UnderwearAndSocks'}), items_add=frozenset({'FridgeMagnets'}), confidence=0.9106636031896203, lift=3.5532922905410955)])]\n"
     ]
    }
   ],
   "source": [
    "results = list(apriori(transactions = transactions,\n",
    "                       min_support = 0.1,\n",
    "                       min_confidence = 0.1,\n",
    "                       min_lift = 1.1,\n",
    "                       min_length = 1,\n",
    "                       max_length = 5\n",
    "                       ))\n",
    "\n",
    "for result in results:\n",
    "    print(results)\n"
   ]
  },
  {
   "cell_type": "code",
   "execution_count": 87,
   "metadata": {},
   "outputs": [
    {
     "name": "stdout",
     "output_type": "stream",
     "text": [
      "0.1385 0.5614 frozenset({'Books'}) ---> frozenset({'FlagsAndStandards'}) 3.80\n",
      "0.1385 0.9381 frozenset({'FlagsAndStandards'}) ---> frozenset({'Books'}) 3.80\n",
      "0.1674 0.6534 frozenset({'FridgeMagnets'}) ---> frozenset({'UnderwearAndSocks'}) 3.55\n",
      "0.1674 0.9107 frozenset({'UnderwearAndSocks'}) ---> frozenset({'FridgeMagnets'}) 3.55\n"
     ]
    }
   ],
   "source": [
    "data = []\n",
    "# print(\"Support Confidence Rule\")\n",
    "for a in results:\n",
    "    support = a.support\n",
    "    items= a.items\n",
    "    rules = a.ordered_statistics\n",
    "    # print(rules)\n",
    "    for b in rules:\n",
    "        lhs = b.items_base\n",
    "        rhs = b.items_add\n",
    "        conf = b.confidence\n",
    "        lift = b.lift\n",
    "        data.append([support, conf, lhs, rhs, lift])\n",
    "        print(\"%6.4f %6.4f %s ---> %s %.2f\" %(support, conf, lhs, rhs, lift))\n"
   ]
  },
  {
   "cell_type": "code",
   "execution_count": 88,
   "metadata": {},
   "outputs": [
    {
     "data": {
      "text/html": [
       "<div>\n",
       "<style scoped>\n",
       "    .dataframe tbody tr th:only-of-type {\n",
       "        vertical-align: middle;\n",
       "    }\n",
       "\n",
       "    .dataframe tbody tr th {\n",
       "        vertical-align: top;\n",
       "    }\n",
       "\n",
       "    .dataframe thead th {\n",
       "        text-align: right;\n",
       "    }\n",
       "</style>\n",
       "<table border=\"1\" class=\"dataframe\">\n",
       "  <thead>\n",
       "    <tr style=\"text-align: right;\">\n",
       "      <th></th>\n",
       "      <th>Support</th>\n",
       "      <th>Confidence</th>\n",
       "      <th>LHS</th>\n",
       "      <th>RHS</th>\n",
       "      <th>Lift</th>\n",
       "    </tr>\n",
       "  </thead>\n",
       "  <tbody>\n",
       "    <tr>\n",
       "      <th>0</th>\n",
       "      <td>0.138482</td>\n",
       "      <td>0.561376</td>\n",
       "      <td>(Books)</td>\n",
       "      <td>(FlagsAndStandards)</td>\n",
       "      <td>3.802992</td>\n",
       "    </tr>\n",
       "    <tr>\n",
       "      <th>1</th>\n",
       "      <td>0.138482</td>\n",
       "      <td>0.938131</td>\n",
       "      <td>(FlagsAndStandards)</td>\n",
       "      <td>(Books)</td>\n",
       "      <td>3.802992</td>\n",
       "    </tr>\n",
       "    <tr>\n",
       "      <th>2</th>\n",
       "      <td>0.167445</td>\n",
       "      <td>0.653350</td>\n",
       "      <td>(FridgeMagnets)</td>\n",
       "      <td>(UnderwearAndSocks)</td>\n",
       "      <td>3.553292</td>\n",
       "    </tr>\n",
       "    <tr>\n",
       "      <th>3</th>\n",
       "      <td>0.167445</td>\n",
       "      <td>0.910664</td>\n",
       "      <td>(UnderwearAndSocks)</td>\n",
       "      <td>(FridgeMagnets)</td>\n",
       "      <td>3.553292</td>\n",
       "    </tr>\n",
       "  </tbody>\n",
       "</table>\n",
       "</div>"
      ],
      "text/plain": [
       "    Support  Confidence                  LHS                  RHS      Lift\n",
       "0  0.138482    0.561376              (Books)  (FlagsAndStandards)  3.802992\n",
       "1  0.138482    0.938131  (FlagsAndStandards)              (Books)  3.802992\n",
       "2  0.167445    0.653350      (FridgeMagnets)  (UnderwearAndSocks)  3.553292\n",
       "3  0.167445    0.910664  (UnderwearAndSocks)      (FridgeMagnets)  3.553292"
      ]
     },
     "execution_count": 88,
     "metadata": {},
     "output_type": "execute_result"
    }
   ],
   "source": [
    "columns = [\"Support\", \"Confidence\", \"LHS\", \"RHS\", \"Lift\"]\n",
    "data1 = pd.DataFrame(data, columns = columns)\n",
    "data1"
   ]
  },
  {
   "cell_type": "code",
   "execution_count": 89,
   "metadata": {},
   "outputs": [
    {
     "data": {
      "text/html": [
       "<div>\n",
       "<style scoped>\n",
       "    .dataframe tbody tr th:only-of-type {\n",
       "        vertical-align: middle;\n",
       "    }\n",
       "\n",
       "    .dataframe tbody tr th {\n",
       "        vertical-align: top;\n",
       "    }\n",
       "\n",
       "    .dataframe thead th {\n",
       "        text-align: right;\n",
       "    }\n",
       "</style>\n",
       "<table border=\"1\" class=\"dataframe\">\n",
       "  <thead>\n",
       "    <tr style=\"text-align: right;\">\n",
       "      <th></th>\n",
       "      <th>Support</th>\n",
       "      <th>Confidence</th>\n",
       "      <th>LHS</th>\n",
       "      <th>RHS</th>\n",
       "      <th>Lift</th>\n",
       "    </tr>\n",
       "  </thead>\n",
       "  <tbody>\n",
       "    <tr>\n",
       "      <th>1</th>\n",
       "      <td>0.138482</td>\n",
       "      <td>0.938131</td>\n",
       "      <td>(FlagsAndStandards)</td>\n",
       "      <td>(Books)</td>\n",
       "      <td>3.802992</td>\n",
       "    </tr>\n",
       "    <tr>\n",
       "      <th>3</th>\n",
       "      <td>0.167445</td>\n",
       "      <td>0.910664</td>\n",
       "      <td>(UnderwearAndSocks)</td>\n",
       "      <td>(FridgeMagnets)</td>\n",
       "      <td>3.553292</td>\n",
       "    </tr>\n",
       "    <tr>\n",
       "      <th>2</th>\n",
       "      <td>0.167445</td>\n",
       "      <td>0.653350</td>\n",
       "      <td>(FridgeMagnets)</td>\n",
       "      <td>(UnderwearAndSocks)</td>\n",
       "      <td>3.553292</td>\n",
       "    </tr>\n",
       "    <tr>\n",
       "      <th>0</th>\n",
       "      <td>0.138482</td>\n",
       "      <td>0.561376</td>\n",
       "      <td>(Books)</td>\n",
       "      <td>(FlagsAndStandards)</td>\n",
       "      <td>3.802992</td>\n",
       "    </tr>\n",
       "  </tbody>\n",
       "</table>\n",
       "</div>"
      ],
      "text/plain": [
       "    Support  Confidence                  LHS                  RHS      Lift\n",
       "1  0.138482    0.938131  (FlagsAndStandards)              (Books)  3.802992\n",
       "3  0.167445    0.910664  (UnderwearAndSocks)      (FridgeMagnets)  3.553292\n",
       "2  0.167445    0.653350      (FridgeMagnets)  (UnderwearAndSocks)  3.553292\n",
       "0  0.138482    0.561376              (Books)  (FlagsAndStandards)  3.802992"
      ]
     },
     "execution_count": 89,
     "metadata": {},
     "output_type": "execute_result"
    }
   ],
   "source": [
    "data1.nlargest(n=10, columns=\"Confidence\")\n"
   ]
  },
  {
   "cell_type": "code",
   "execution_count": 90,
   "metadata": {},
   "outputs": [],
   "source": [
    "df = df.drop('ID', axis=1)"
   ]
  },
  {
   "cell_type": "code",
   "execution_count": null,
   "metadata": {},
   "outputs": [],
   "source": [
    "from mlxtend.frequent_patterns import apriori, association_rules"
   ]
  },
  {
   "cell_type": "code",
   "execution_count": 92,
   "metadata": {},
   "outputs": [
    {
     "name": "stderr",
     "output_type": "stream",
     "text": [
      "d:\\Users\\jk026110\\assosiaatio\\env\\Lib\\site-packages\\mlxtend\\frequent_patterns\\fpcommon.py:161: DeprecationWarning: DataFrames with non-bool types result in worse computationalperformance and their support might be discontinued in the future.Please use a DataFrame with bool type\n",
      "  warnings.warn(\n"
     ]
    }
   ],
   "source": [
    "frequent_itemssets = apriori(df, min_support=0.1, use_colnames=True)\n",
    "frequent_itemssets['length'] = frequent_itemssets['itemsets'].apply(lambda x: len(x))"
   ]
  },
  {
   "cell_type": "code",
   "execution_count": 98,
   "metadata": {},
   "outputs": [
    {
     "data": {
      "text/html": [
       "<div>\n",
       "<style scoped>\n",
       "    .dataframe tbody tr th:only-of-type {\n",
       "        vertical-align: middle;\n",
       "    }\n",
       "\n",
       "    .dataframe tbody tr th {\n",
       "        vertical-align: top;\n",
       "    }\n",
       "\n",
       "    .dataframe thead th {\n",
       "        text-align: right;\n",
       "    }\n",
       "</style>\n",
       "<table border=\"1\" class=\"dataframe\">\n",
       "  <thead>\n",
       "    <tr style=\"text-align: right;\">\n",
       "      <th></th>\n",
       "      <th>antecedents</th>\n",
       "      <th>consequents</th>\n",
       "      <th>antecedent support</th>\n",
       "      <th>consequent support</th>\n",
       "      <th>support</th>\n",
       "      <th>confidence</th>\n",
       "      <th>lift</th>\n",
       "      <th>representativity</th>\n",
       "      <th>leverage</th>\n",
       "      <th>conviction</th>\n",
       "      <th>zhangs_metric</th>\n",
       "      <th>jaccard</th>\n",
       "      <th>certainty</th>\n",
       "      <th>kulczynski</th>\n",
       "    </tr>\n",
       "  </thead>\n",
       "  <tbody>\n",
       "    <tr>\n",
       "      <th>0</th>\n",
       "      <td>(FlagsAndStandards)</td>\n",
       "      <td>(Books)</td>\n",
       "      <td>0.11880</td>\n",
       "      <td>0.19853</td>\n",
       "      <td>0.11145</td>\n",
       "      <td>0.938131</td>\n",
       "      <td>4.725388</td>\n",
       "      <td>1.0</td>\n",
       "      <td>0.087865</td>\n",
       "      <td>12.954372</td>\n",
       "      <td>0.894663</td>\n",
       "      <td>0.541335</td>\n",
       "      <td>0.922806</td>\n",
       "      <td>0.749754</td>\n",
       "    </tr>\n",
       "    <tr>\n",
       "      <th>1</th>\n",
       "      <td>(Books)</td>\n",
       "      <td>(FlagsAndStandards)</td>\n",
       "      <td>0.19853</td>\n",
       "      <td>0.11880</td>\n",
       "      <td>0.11145</td>\n",
       "      <td>0.561376</td>\n",
       "      <td>4.725388</td>\n",
       "      <td>1.0</td>\n",
       "      <td>0.087865</td>\n",
       "      <td>2.009011</td>\n",
       "      <td>0.983664</td>\n",
       "      <td>0.541335</td>\n",
       "      <td>0.502243</td>\n",
       "      <td>0.749754</td>\n",
       "    </tr>\n",
       "    <tr>\n",
       "      <th>2</th>\n",
       "      <td>(UnderwearAndSocks)</td>\n",
       "      <td>(FridgeMagnets)</td>\n",
       "      <td>0.14798</td>\n",
       "      <td>0.20626</td>\n",
       "      <td>0.13476</td>\n",
       "      <td>0.910664</td>\n",
       "      <td>4.415125</td>\n",
       "      <td>1.0</td>\n",
       "      <td>0.104238</td>\n",
       "      <td>8.884845</td>\n",
       "      <td>0.907849</td>\n",
       "      <td>0.613997</td>\n",
       "      <td>0.887449</td>\n",
       "      <td>0.782007</td>\n",
       "    </tr>\n",
       "    <tr>\n",
       "      <th>3</th>\n",
       "      <td>(FridgeMagnets)</td>\n",
       "      <td>(UnderwearAndSocks)</td>\n",
       "      <td>0.20626</td>\n",
       "      <td>0.14798</td>\n",
       "      <td>0.13476</td>\n",
       "      <td>0.653350</td>\n",
       "      <td>4.415125</td>\n",
       "      <td>1.0</td>\n",
       "      <td>0.104238</td>\n",
       "      <td>2.457869</td>\n",
       "      <td>0.974508</td>\n",
       "      <td>0.613997</td>\n",
       "      <td>0.593144</td>\n",
       "      <td>0.782007</td>\n",
       "    </tr>\n",
       "  </tbody>\n",
       "</table>\n",
       "</div>"
      ],
      "text/plain": [
       "           antecedents          consequents  antecedent support  \\\n",
       "0  (FlagsAndStandards)              (Books)             0.11880   \n",
       "1              (Books)  (FlagsAndStandards)             0.19853   \n",
       "2  (UnderwearAndSocks)      (FridgeMagnets)             0.14798   \n",
       "3      (FridgeMagnets)  (UnderwearAndSocks)             0.20626   \n",
       "\n",
       "   consequent support  support  confidence      lift  representativity  \\\n",
       "0             0.19853  0.11145    0.938131  4.725388               1.0   \n",
       "1             0.11880  0.11145    0.561376  4.725388               1.0   \n",
       "2             0.20626  0.13476    0.910664  4.415125               1.0   \n",
       "3             0.14798  0.13476    0.653350  4.415125               1.0   \n",
       "\n",
       "   leverage  conviction  zhangs_metric   jaccard  certainty  kulczynski  \n",
       "0  0.087865   12.954372       0.894663  0.541335   0.922806    0.749754  \n",
       "1  0.087865    2.009011       0.983664  0.541335   0.502243    0.749754  \n",
       "2  0.104238    8.884845       0.907849  0.613997   0.887449    0.782007  \n",
       "3  0.104238    2.457869       0.974508  0.613997   0.593144    0.782007  "
      ]
     },
     "execution_count": 98,
     "metadata": {},
     "output_type": "execute_result"
    }
   ],
   "source": [
    "rules = association_rules(frequent_itemssets,\n",
    "                          metric=\"lift\",\n",
    "                          min_threshold=0.1,\n",
    "                          num_itemsets=100000)\n",
    "rules"
   ]
  },
  {
   "cell_type": "code",
   "execution_count": 99,
   "metadata": {},
   "outputs": [
    {
     "data": {
      "text/html": [
       "<div>\n",
       "<style scoped>\n",
       "    .dataframe tbody tr th:only-of-type {\n",
       "        vertical-align: middle;\n",
       "    }\n",
       "\n",
       "    .dataframe tbody tr th {\n",
       "        vertical-align: top;\n",
       "    }\n",
       "\n",
       "    .dataframe thead th {\n",
       "        text-align: right;\n",
       "    }\n",
       "</style>\n",
       "<table border=\"1\" class=\"dataframe\">\n",
       "  <thead>\n",
       "    <tr style=\"text-align: right;\">\n",
       "      <th></th>\n",
       "      <th>antecedents</th>\n",
       "      <th>consequents</th>\n",
       "      <th>antecedent support</th>\n",
       "      <th>consequent support</th>\n",
       "      <th>support</th>\n",
       "      <th>confidence</th>\n",
       "      <th>lift</th>\n",
       "      <th>representativity</th>\n",
       "      <th>leverage</th>\n",
       "      <th>conviction</th>\n",
       "      <th>zhangs_metric</th>\n",
       "      <th>jaccard</th>\n",
       "      <th>certainty</th>\n",
       "      <th>kulczynski</th>\n",
       "    </tr>\n",
       "  </thead>\n",
       "  <tbody>\n",
       "    <tr>\n",
       "      <th>0</th>\n",
       "      <td>(FlagsAndStandards)</td>\n",
       "      <td>(Books)</td>\n",
       "      <td>0.11880</td>\n",
       "      <td>0.19853</td>\n",
       "      <td>0.11145</td>\n",
       "      <td>0.938131</td>\n",
       "      <td>4.725388</td>\n",
       "      <td>1.0</td>\n",
       "      <td>0.087865</td>\n",
       "      <td>12.954372</td>\n",
       "      <td>0.894663</td>\n",
       "      <td>0.541335</td>\n",
       "      <td>0.922806</td>\n",
       "      <td>0.749754</td>\n",
       "    </tr>\n",
       "    <tr>\n",
       "      <th>2</th>\n",
       "      <td>(UnderwearAndSocks)</td>\n",
       "      <td>(FridgeMagnets)</td>\n",
       "      <td>0.14798</td>\n",
       "      <td>0.20626</td>\n",
       "      <td>0.13476</td>\n",
       "      <td>0.910664</td>\n",
       "      <td>4.415125</td>\n",
       "      <td>1.0</td>\n",
       "      <td>0.104238</td>\n",
       "      <td>8.884845</td>\n",
       "      <td>0.907849</td>\n",
       "      <td>0.613997</td>\n",
       "      <td>0.887449</td>\n",
       "      <td>0.782007</td>\n",
       "    </tr>\n",
       "    <tr>\n",
       "      <th>3</th>\n",
       "      <td>(FridgeMagnets)</td>\n",
       "      <td>(UnderwearAndSocks)</td>\n",
       "      <td>0.20626</td>\n",
       "      <td>0.14798</td>\n",
       "      <td>0.13476</td>\n",
       "      <td>0.653350</td>\n",
       "      <td>4.415125</td>\n",
       "      <td>1.0</td>\n",
       "      <td>0.104238</td>\n",
       "      <td>2.457869</td>\n",
       "      <td>0.974508</td>\n",
       "      <td>0.613997</td>\n",
       "      <td>0.593144</td>\n",
       "      <td>0.782007</td>\n",
       "    </tr>\n",
       "    <tr>\n",
       "      <th>1</th>\n",
       "      <td>(Books)</td>\n",
       "      <td>(FlagsAndStandards)</td>\n",
       "      <td>0.19853</td>\n",
       "      <td>0.11880</td>\n",
       "      <td>0.11145</td>\n",
       "      <td>0.561376</td>\n",
       "      <td>4.725388</td>\n",
       "      <td>1.0</td>\n",
       "      <td>0.087865</td>\n",
       "      <td>2.009011</td>\n",
       "      <td>0.983664</td>\n",
       "      <td>0.541335</td>\n",
       "      <td>0.502243</td>\n",
       "      <td>0.749754</td>\n",
       "    </tr>\n",
       "  </tbody>\n",
       "</table>\n",
       "</div>"
      ],
      "text/plain": [
       "           antecedents          consequents  antecedent support  \\\n",
       "0  (FlagsAndStandards)              (Books)             0.11880   \n",
       "2  (UnderwearAndSocks)      (FridgeMagnets)             0.14798   \n",
       "3      (FridgeMagnets)  (UnderwearAndSocks)             0.20626   \n",
       "1              (Books)  (FlagsAndStandards)             0.19853   \n",
       "\n",
       "   consequent support  support  confidence      lift  representativity  \\\n",
       "0             0.19853  0.11145    0.938131  4.725388               1.0   \n",
       "2             0.20626  0.13476    0.910664  4.415125               1.0   \n",
       "3             0.14798  0.13476    0.653350  4.415125               1.0   \n",
       "1             0.11880  0.11145    0.561376  4.725388               1.0   \n",
       "\n",
       "   leverage  conviction  zhangs_metric   jaccard  certainty  kulczynski  \n",
       "0  0.087865   12.954372       0.894663  0.541335   0.922806    0.749754  \n",
       "2  0.104238    8.884845       0.907849  0.613997   0.887449    0.782007  \n",
       "3  0.104238    2.457869       0.974508  0.613997   0.593144    0.782007  \n",
       "1  0.087865    2.009011       0.983664  0.541335   0.502243    0.749754  "
      ]
     },
     "execution_count": 99,
     "metadata": {},
     "output_type": "execute_result"
    }
   ],
   "source": [
    "rules.nlargest(n=10, columns=\"confidence\")"
   ]
  }
 ],
 "metadata": {
  "kernelspec": {
   "display_name": "env",
   "language": "python",
   "name": "python3"
  },
  "language_info": {
   "codemirror_mode": {
    "name": "ipython",
    "version": 3
   },
   "file_extension": ".py",
   "mimetype": "text/x-python",
   "name": "python",
   "nbconvert_exporter": "python",
   "pygments_lexer": "ipython3",
   "version": "3.12.7"
  }
 },
 "nbformat": 4,
 "nbformat_minor": 2
}
